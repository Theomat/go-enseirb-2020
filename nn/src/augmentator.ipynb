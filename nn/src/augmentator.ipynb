{
 "cells": [
  {
   "cell_type": "code",
   "execution_count": null,
   "metadata": {},
   "outputs": [],
   "source": [
    "import numpy as np\n",
    "import pickle\n",
    "from copy import deepcopy\n",
    "from go_plot import plot_play_probabilities"
   ]
  },
  {
   "cell_type": "code",
   "execution_count": null,
   "metadata": {},
   "outputs": [],
   "source": [
    "def name_to_coord(name):\n",
    "    if name == 'PASS':\n",
    "        return (-1, -1)\n",
    "\n",
    "    col = indexLetters[name[0]]\n",
    "    lin = int(name[1:]) - 1\n",
    "\n",
    "    return (col, lin)\n",
    "\n",
    "\n",
    "def coord_to_flat(coord):\n",
    "    if coord == (-1, -1):\n",
    "        return 81\n",
    "    return 9 * coord[1] + coord[0]\n",
    "\n",
    "\n",
    "def name_to_flat(name):\n",
    "    return coord_to_flat(name_to_coord(name))\n",
    "\n",
    "\n",
    "def listify(samples):\n",
    "    for i in range(len(samples)):\n",
    "        samples[i] = list(samples[i])\n",
    "    return samples\n",
    "\n",
    "\n",
    "def tuplefy(samples):\n",
    "    for i in range(len(samples)):\n",
    "        samples[i] = tuple(samples[i])\n",
    "    return samples\n",
    "\n",
    "def as_board(splitted):\n",
    "    return splitted[0] + 2 * splitted[1]\n",
    "\n",
    "\n",
    "def create_table(np_func):\n",
    "    orig = np.arange(81).reshape((9,9))\n",
    "    rot = np_func(orig)\n",
    "\n",
    "    table = np.zeros(81)\n",
    "    for i in range(9):\n",
    "        for j in range(9):\n",
    "\n",
    "            orig_idx = (j, i)\n",
    "            orig_flat = coord_to_flat(orig_idx)\n",
    "\n",
    "            whr = np.where(rot == orig_flat)\n",
    "            to_idx = (whr[1][0], whr[0][0])\n",
    "            to_flat = coord_to_flat(to_idx)\n",
    "\n",
    "            table[orig_flat] = to_flat\n",
    "    return table\n",
    "            \n",
    "\n",
    "def do_op(probs, table):\n",
    "    \n",
    "    out = np.zeros(82)\n",
    "    for k in range(81):\n",
    "        out[int(table[k])] = probs[k]\n",
    "        \n",
    "    out[81] = probs[81]\n",
    "    \n",
    "    return out\n",
    "\n",
    "\n",
    "ROT_TABLE = create_table(np.rot90)\n",
    "FLIP_TABLE = create_table(np.flipud)\n",
    "\n",
    "\n",
    "def rot90(probs):\n",
    "    global ROT_TABLE\n",
    "    return do_op(probs, ROT_TABLE)\n",
    "\n",
    "\n",
    "def flipud(probs):\n",
    "    global FLIP_TABLE\n",
    "    return do_op(probs, FLIP_TABLE)\n",
    "\n",
    "def swap_colors(s):\n",
    "    sample = deepcopy(s)\n",
    "    for k in range(7):\n",
    "        sample[0][2*k], sample[0][2*k+1] = deepcopy(sample[0][2*k+1]), deepcopy(sample[0][2*k])\n",
    "    sample[0][14] = 1 - sample[0][14]\n",
    "    # sample[2] = 1 - sample[2]\n",
    "    return sample"
   ]
  },
  {
   "cell_type": "code",
   "execution_count": null,
   "metadata": {},
   "outputs": [],
   "source": [
    "f = open('./samples.npy', 'rb')\n",
    "samples = pickle.load(f)\n",
    "f.close()\n",
    "len(samples)"
   ]
  },
  {
   "cell_type": "code",
   "execution_count": null,
   "metadata": {},
   "outputs": [],
   "source": [
    "def augmentate(samples):\n",
    "    size = len(samples)\n",
    "    samples = listify(samples)\n",
    "    augmentated_samples = deepcopy(samples)\n",
    "\n",
    "    for _ in range(15):\n",
    "        augmentated_samples += deepcopy(samples)\n",
    "    \n",
    "    for rot in range(1, 4):\n",
    "        for idx in range(size):\n",
    "            for k in range(15):\n",
    "                augmentated_samples[rot*size + idx][0][k] = np.rot90(augmentated_samples[(rot-1)*size + idx][0][k])\n",
    "            augmentated_samples[rot*size + idx][1] = rot90(augmentated_samples[(rot-1)*size + idx][1])\n",
    "\n",
    "    for mirror in range(4, 8):\n",
    "        for idx in range(size):\n",
    "            for k in range(15):\n",
    "                augmentated_samples[mirror*size + idx][0][k] = np.flipud(augmentated_samples[(mirror-4) * size + idx][0][k])\n",
    "            augmentated_samples[mirror*size + idx][1] = flipud(augmentated_samples[(mirror-4) * size + idx][1])\n",
    "    \n",
    "    for swap in range(8*size):\n",
    "        augmentated_samples[swap+8*size] = swap_colors(augmentated_samples[swap])\n",
    "\n",
    "    return tuplefy(augmentated_samples)"
   ]
  },
  {
   "cell_type": "code",
   "execution_count": null,
   "metadata": {},
   "outputs": [],
   "source": [
    "a = augmentate(samples[0:50])"
   ]
  },
  {
   "cell_type": "code",
   "execution_count": null,
   "metadata": {
    "scrolled": false
   },
   "outputs": [],
   "source": [
    "plot_play_probabilities(as_board(a[2][0][0:2]), a[2][1], is_real_board=True)"
   ]
  },
  {
   "cell_type": "code",
   "execution_count": null,
   "metadata": {},
   "outputs": [],
   "source": [
    "plot_play_probabilities(as_board(a[52][0][0:2]), a[52][1], is_real_board=True)"
   ]
  },
  {
   "cell_type": "code",
   "execution_count": null,
   "metadata": {},
   "outputs": [],
   "source": [
    "plot_play_probabilities(as_board(a[102][0][0:2]), a[102][1], is_real_board=True)"
   ]
  },
  {
   "cell_type": "code",
   "execution_count": null,
   "metadata": {},
   "outputs": [],
   "source": [
    "plot_play_probabilities(as_board(a[152][0][0:2]), a[152][1], is_real_board=True)"
   ]
  },
  {
   "cell_type": "code",
   "execution_count": null,
   "metadata": {},
   "outputs": [],
   "source": [
    "plot_play_probabilities(as_board(a[202][0][0:2]), a[202][1], is_real_board=True)"
   ]
  },
  {
   "cell_type": "code",
   "execution_count": null,
   "metadata": {},
   "outputs": [],
   "source": [
    "plot_play_probabilities(as_board(a[402][0][0:2]), a[402][1], is_real_board=True)"
   ]
  },
  {
   "cell_type": "code",
   "execution_count": null,
   "metadata": {},
   "outputs": [],
   "source": [
    "plot_play_probabilities(as_board(a[0][0][0:2]),np.zeros(82), is_real_board=True)"
   ]
  },
  {
   "cell_type": "code",
   "execution_count": null,
   "metadata": {},
   "outputs": [],
   "source": [
    "f = open('./samples_aug.npy', 'rb')\n",
    "a = pickle.load(f)\n",
    "f.close()"
   ]
  },
  {
   "cell_type": "code",
   "execution_count": null,
   "metadata": {},
   "outputs": [],
   "source": [
    "initial = 1\n",
    "to_add = 36659\n",
    "hist = 1\n",
    "plot_play_probabilities(as_board(a[initial][0][2*hist:2*hist+2]), a[initial][1], is_real_board=True)"
   ]
  },
  {
   "cell_type": "code",
   "execution_count": null,
   "metadata": {},
   "outputs": [],
   "source": [
    "plot_play_probabilities(as_board(a[initial+to_add][0][2*hist:2*hist+2]), a[initial+to_add][1], is_real_board=True)"
   ]
  },
  {
   "cell_type": "code",
   "execution_count": null,
   "metadata": {},
   "outputs": [],
   "source": [
    "plot_play_probabilities(as_board(a[initial+2*to_add][0][2*hist:2*hist+2]), a[initial+2*to_add][1], is_real_board=True)"
   ]
  },
  {
   "cell_type": "code",
   "execution_count": null,
   "metadata": {},
   "outputs": [],
   "source": [
    "plot_play_probabilities(as_board(a[initial+3*to_add][0][2*hist:2*hist+2]), a[initial+3*to_add][1], is_real_board=True)"
   ]
  },
  {
   "cell_type": "code",
   "execution_count": null,
   "metadata": {},
   "outputs": [],
   "source": [
    "plot_play_probabilities(as_board(a[initial+4*to_add][0][2*hist:2*hist+2]), a[initial+4*to_add][1], is_real_board=True)"
   ]
  },
  {
   "cell_type": "code",
   "execution_count": null,
   "metadata": {},
   "outputs": [],
   "source": [
    "plot_play_probabilities(as_board(a[initial+5*to_add][0][2*hist:2*hist+2]), a[initial+5*to_add][1], is_real_board=True)"
   ]
  },
  {
   "cell_type": "code",
   "execution_count": null,
   "metadata": {},
   "outputs": [],
   "source": [
    "plot_play_probabilities(as_board(a[initial+6*to_add][0][2*hist:2*hist+2]), a[initial+6*to_add][1], is_real_board=True)"
   ]
  },
  {
   "cell_type": "code",
   "execution_count": null,
   "metadata": {},
   "outputs": [],
   "source": []
  }
 ],
 "metadata": {
  "kernelspec": {
   "display_name": "Python 3",
   "language": "python",
   "name": "python3"
  },
  "language_info": {
   "codemirror_mode": {
    "name": "ipython",
    "version": 3
   },
   "file_extension": ".py",
   "mimetype": "text/x-python",
   "name": "python",
   "nbconvert_exporter": "python",
   "pygments_lexer": "ipython3",
   "version": "3.8.5"
  }
 },
 "nbformat": 4,
 "nbformat_minor": 4
}
