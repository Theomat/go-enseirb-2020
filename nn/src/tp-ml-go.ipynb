{
 "cells": [
  {
   "cell_type": "markdown",
   "metadata": {},
   "source": [
    "# Apprenez une heuristique pour le Go\n",
    "\n",
    "Dans ce TP noté, vous devrez déployer des methodes d'apprentissage automatique permettant d'évaluer la qualité de plateaux de GO.\n",
    "\n",
    "Pour cela, vous disposerez de 41563 exemples de plateau de Go, tous générés par gnugo après quelques coups contre lui même avec un niveau de difficulté de 0. Par chaque plateau, nous avons lancé 100 matchs de gnugo contre lui même, toujours avec un niveau 0, et compté le nombre de victoires de noir et de blanc depuis ce plateau.\n",
    "\n",
    "A noter, chaque \"rollout\" (un rollout et un déroulement possible du match depuis le plateau de référence) correspond à des mouvements choisis aléatoirement parmis les 10 meilleurs mouvements possibles, en biasant le choix aléatoire par la qualité prédite du mouvement par gnugo (les meilleurs mouvements ont une plus forte probabilité d'être tirés).\n",
    "\n",
    "Les données dont vous disposez sont brutes. Ce sera à vous de proposer un format adéquat pour utiliser ces données en entrée de votre réseau neuronal. \n",
    "\n",
    "## Comment sera évalué votre modèle ?\n",
    "\n",
    "Nous vous fournirons 6h avant la date de rendu un nouveau fichier contenant 1000 nouveaux exemples, qui ne contiendront pas les champs `black_wins`, `white_wins`, `black_points` et `white_points`. Vous devrez laisser, dans votre dépot de projet un fichier texte nommé `my_predictions.txt` ayant une prédiction par ligne (un simple flottant) qui donnera, dans le même ordre de la liste des exemples les scores que vous prédisez pour chacune des entrées du fichier que nous vous aurons donné. Il faudra laisser, dans votre feuille notebook (voir tout en dessous) la cellule Python qui aura créé ce fichier, pour que l'on puisse éventuellement refaire vos prédictions.\n",
    "\n",
    "Bien entendu, vous nous rendrez également votre feuille jupyter **sous deux formats**, à la fois le fichier `.ipynb` et le fichier `.html` nous permettant de lire ce que vous avez fait, sans forcément relancer la feuille. Nous prendrons en compte les résultats obtenus sur les prédictions mais aussi le contenu de vos notebooks jupyter.\n",
    "\n",
    "### Comment sera noté ce TP ?\n",
    "\n",
    "Il s'agit d'un TP noté, donc il ne faudra pas y passer trop de temps. Nous attendons des prédictions correctes mais surtout des choix justifiés dans la feuille. Votre feuille notebook sera le plus important pour la notation (n'hésitez pas à mettre des cellules de texte pour expliquer pourquoi vous avez été amenés à faire certains choix). Ainsi, il serait bien d'avoir, par exemple, les données (graphiques ou autre) qui permettent de comprendre comment vous avez évité l'overfitting.\n",
    "\n",
    "Le fichier de vos prédiction sera évalué en se basant sur la qualité de vos prédictions. Nous mesurerons par exemple le nombre d'exemples dont votre prédiction donnera la bonne valeur à 5%, 10%, 20%, 35%, 50% pour estimer sa qualité.\n",
    "\n",
    "\n",
    "## Mise en route !\n",
    "\n",
    "Voyons  comment lire les données\n"
   ]
  },
  {
   "cell_type": "code",
   "execution_count": 392,
   "metadata": {},
   "outputs": [
    {
     "name": "stdout",
     "output_type": "stream",
     "text": [
      "We have 41563 examples\n"
     ]
    }
   ],
   "source": [
    "# Import du fichier d'exemples\n",
    "\n",
    "def get_raw_data_go():\n",
    "    ''' Returns the set of samples from the local file or download it if it does not exists'''\n",
    "    import gzip, os.path\n",
    "    import json\n",
    "\n",
    "    raw_samples_file = \"samples-9x9.json.gz\"\n",
    "\n",
    "    if not os.path.isfile(raw_samples_file):\n",
    "        print(\"File\", raw_samples_file, \"not found, I am downloading it...\", end=\"\")\n",
    "        import urllib.request \n",
    "        urllib.request.urlretrieve (\"https://www.labri.fr/perso/lsimon/ia-inge2/samples-9x9.json.gz\", \"samples-9x9.json.gz\")\n",
    "        print(\" Done\")\n",
    "\n",
    "    with gzip.open(\"samples-9x9.json.gz\") as fz:\n",
    "        data = json.loads(fz.read().decode(\"utf-8\"))\n",
    "    return data\n",
    "\n",
    "data = get_raw_data_go()\n",
    "print(\"We have\", len(data),\"examples\")"
   ]
  },
  {
   "cell_type": "markdown",
   "metadata": {},
   "source": [
    "## Compréhension des données de chaque entrée\n",
    "\n",
    "Voici une description de chaque exemple"
   ]
  },
  {
   "cell_type": "markdown",
   "metadata": {},
   "source": [
    "## Données en entrée et en sortie de votre modèle final\n",
    "\n",
    "Même si en interne, votre modèle va manipuler des tenseurs en numpy, vous devrez construire une boite noire qui prendra en entrée les coordonnées des pierres noires et blanches et donnera le pourcentage de chance pour noir de gagner depuis cette position. \n",
    "\n",
    "Ainsi, pour l'exemple `i` :\n",
    "- Vous prendez en entree `data[i][\"black_stones\"]` et `data[i][\"white_stones\"]`\n",
    "- Vous devrez prédire simplement `data[i][\"black_wins\"]/data[i][\"rollouts\"]`\n",
    "\n",
    "Encore une fois, **attention** : en interne, il faudra absolument construire vos données formattées en matrices numpy pour faire votre entrainement. On vous demande juste ici d'écrire comment vous faites ces transformations, pour comprendre ce que vous avez décidé de mettre en entrée du réseau.\n",
    "\n",
    "Voici le modèle de la fonction qui pourra être appelée, au final :\n"
   ]
  },
  {
   "cell_type": "code",
   "execution_count": 393,
   "metadata": {},
   "outputs": [
    {
     "name": "stdout",
     "output_type": "stream",
     "text": [
      "Prediction this sample:\n",
      "Sample 10\n",
      "\n",
      "Données brutes en format JSON: {'depth': 8, 'list_of_moves': ['C6', 'E7', 'C3', 'C8', 'E5', 'G3', 'B7', 'H7'], 'black_stones': ['B7', 'C6', 'E5', 'C3'], 'white_stones': ['C8', 'E7', 'H7', 'G3'], 'rollouts': 100, 'black_wins': 60, 'black_points': 876.0, 'white_wins': 40, 'white_points': 378.0}\n",
      "\n",
      "The sample was obtained after 8 moves\n",
      "The successive moves were ['C6', 'E7', 'C3', 'C8', 'E5', 'G3', 'B7', 'H7']\n",
      "After these moves and all the captures, there was black stones at the following position ['B7', 'C6', 'E5', 'C3']\n",
      "After these moves and all the captures, there was white stones at the following position ['C8', 'E7', 'H7', 'G3']\n",
      "Number of rollouts (gnugo games played against itself from this position): 100\n",
      "Over these 100 games, black won 60 times with 876.0 total points over all this winning games\n",
      "Over these 100 games, white won 40 times with 378.0 total points over all this winning games\n",
      "\n",
      "You predicted None and the actual target was 0.6\n"
     ]
    }
   ],
   "source": [
    "def position_predict(black_stones, white_stones):\n",
    "\n",
    "    # ... Votre tambouille interne pour placer les pierres comme il faut dans votre structure de données\n",
    "    # et appeler votre modèle Keras (typiquement avec model.predict())\n",
    "    prediction = None # model.predict(...) # A REMPLIR CORRECTEMENT\n",
    "    \n",
    "    return prediction\n",
    "\n",
    "# Par exemple, nous pourrons appeler votre prédiction ainsi\n",
    "\n",
    "print(\"Prediction this sample:\")\n",
    "summary_of_example(data, 10)\n",
    "print()\n",
    "prediction = position_predict(data[10][\"black_stones\"], data[10][\"white_stones\"])\n",
    "print(\"You predicted\", prediction, \"and the actual target was\", data[10][\"black_wins\"]/data[10][\"rollouts\"])\n",
    "\n",
    "# Ainsi, pour le rendu, en admettant que newdata soit le fichier json contenant les nouvelles données que \n",
    "# l'on vous donnera 24h avant la fin, vous pourrez construire le fichier resultat ainsi\n",
    "\n",
    "def create_result_file(newdata):\n",
    "    ''' Exemple de méthode permettant de générer le fichier de resultats demandés. '''\n",
    "    resultat  = [position_predict(d[\"black_stones\"], d[\"white_stones\"]) for d in newdata]\n",
    "    with open(\"my_predictions.txt\", \"w\") as f:\n",
    "         for p in resultat:\n",
    "            f.write(str(p)+\"\\n\")\n",
    "\n"
   ]
  },
  {
   "cell_type": "code",
   "execution_count": 394,
   "metadata": {},
   "outputs": [
    {
     "name": "stdout",
     "output_type": "stream",
     "text": [
      "The CDF curve shows that black has more chances to win, globally\n"
     ]
    },
    {
     "data": {
      "image/png": "[encoded data removed]",
      "text/plain": [
       "<Figure size 432x288 with 1 Axes>"
      ]
     },
     "metadata": {
      "needs_background": "light"
     },
     "output_type": "display_data"
    },
    {
     "data": {
      "image/png": "[encoded data removed]",
      "text/plain": [
       "<Figure size 432x288 with 1 Axes>"
      ]
     },
     "metadata": {
      "needs_background": "light"
     },
     "output_type": "display_data"
    }
   ],
   "source": [
    "%matplotlib inline\n",
    "import matplotlib.pyplot as plt\n",
    "\n",
    "plt.title(\"Relationship between the depth of the board and the chance for black to win\")\n",
    "plt.plot([sample[\"black_wins\"] for sample in data],[sample[\"depth\"] for sample in data], '.')\n",
    "plt.xlabel(\"black wins (percentage)\")\n",
    "plt.ylabel(\"depth of the game\")\n",
    "\n",
    "\n",
    "# Cumulative Distribution function of the chance of black to win\n",
    "cdf_wins = sorted([sample[\"black_wins\"] for sample in data])\n",
    "plt.figure()\n",
    "plt.plot([x/len(cdf_wins) for x in range(len(cdf_wins))], cdf_wins)\n",
    "plt.title(\"Cumulative Distribution function of the chance of black to win\")\n",
    "plt.xlabel(\"\\% of the samples with a chance of black to win below y\")\n",
    "plt.ylabel(\"Chance of black to win\")\n",
    "print(\"The CDF curve shows that black has more chances to win, globally\")"
   ]
  },
  {
   "cell_type": "markdown",
   "metadata": {},
   "source": [
    "# First steps: transform all the data into numpy arrays to feed your neural network\n",
    "\n",
    "Advices:\n",
    "- do not use only a 9x9 matrix as input. Use at least to planes to encode the board. One plane for black and one plane for white (typically with a 1 if there is a black stone for the first plane and with a 1 if there is a white stone for the second plane). The dimension of an input should be at least `[9,9,2]`.\n",
    "- consider to enrich your dataset with all symmetries and rotations. You should be able to multiply the number of samples to consider: any rotation of the board should have the same score, right?\n",
    "- what should happen on the score if you switch the colors? To know which player has to play next, you can check, for a sample, the parity of the length of the list `data[i][\"list_of_moves\"]` (an odd length list would mean that white is the next player. An even length list means that black has to play).\n",
    "- work on enlarging and preparing your data only once. Once all you input data is setup as a big Numpy matrix, you may want to save it for speeding up everything. You can use, for instance `numpy.rot90()` and `numpy.flipud()` to generate all the symmetries\n",
    "\n"
   ]
  },
  {
   "cell_type": "code",
   "execution_count": 395,
   "metadata": {},
   "outputs": [],
   "source": [
    "import numpy as np\n",
    "\n",
    "import pickle\n",
    "\n",
    "def name_to_coord(s):\n",
    "    assert s != \"PASS\"\n",
    "    indexLetters = {'A':0, 'B':1, 'C':2, 'D':3, 'E':4, 'F':5, 'G':6, 'H':7, 'J':8}\n",
    "\n",
    "    col = indexLetters[s[0]]\n",
    "    lin = int(s[1:]) - 1\n",
    "    return lin, col\n",
    "\n",
    "SIZE = len(data)\n",
    "\n",
    "y = np.array(8*[ d[\"black_wins\"]/d[\"rollouts\"] for d in data ])\n",
    "\n",
    "X = np.zeros((8*SIZE, 2, 9, 9))\n",
    "\n",
    "for idx, table in enumerate(data):\n",
    "    \n",
    "    for bp in table['black_stones']:\n",
    "        i, j = name_to_coord(bp)\n",
    "        X[idx, 0, i, j] = 1\n",
    "\n",
    "    for wp in table['white_stones']:\n",
    "        i, j = name_to_coord(wp)\n",
    "        X[idx, 1, i, j] = 1\n",
    "        \n",
    "for rot in range(1,4):\n",
    "    for idx in range(SIZE):\n",
    "        X[rot*SIZE + idx, 0] = np.rot90(X[(rot-1)*SIZE + idx, 0])\n",
    "        X[rot*SIZE + idx, 1] = np.rot90(X[(rot-1)*SIZE + idx, 1])\n",
    "        \n",
    "for mirror in range(4, 8):\n",
    "    for idx in range(SIZE):\n",
    "        X[mirror*SIZE + idx, 0] = np.flipud(X[(mirror-4) * SIZE + idx, 0])\n",
    "        X[mirror*SIZE + idx, 1] = np.flipud(X[(mirror-4) * SIZE + idx, 1])\n",
    "\n",
    "pickle.dump((X,y), open('dataset.npy', 'wb'))"
   ]
  },
  {
   "cell_type": "code",
   "execution_count": 396,
   "metadata": {},
   "outputs": [],
   "source": [
    "def unison_shuffled_copies(a, b):\n",
    "    assert len(a) == len(b)\n",
    "    p = np.random.permutation(len(a))\n",
    "    return a[p], b[p]\n",
    "\n",
    "\n",
    "X, y = unison_shuffled_copies(X, y)\n",
    "\n",
    "split = int(0.8*len(X))\n",
    "\n",
    "X_train = X[:split]\n",
    "y_train = y[:split]\n",
    "\n",
    "X_test = X[split:]\n",
    "y_test = y[split:]"
   ]
  },
  {
   "cell_type": "code",
   "execution_count": 397,
   "metadata": {},
   "outputs": [],
   "source": [
    "from torch.utils.data import TensorDataset, DataLoader\n",
    "import torch"
   ]
  },
  {
   "cell_type": "code",
   "execution_count": 398,
   "metadata": {},
   "outputs": [],
   "source": [
    "X_train = torch.Tensor(X_train)\n",
    "y_train = torch.Tensor(y_train)\n",
    "\n",
    "\n",
    "train_dataset = TensorDataset(X_train, y_train)\n",
    "train_loader = DataLoader(train_dataset, batch_size=64)"
   ]
  },
  {
   "cell_type": "markdown",
   "metadata": {},
   "source": [
    "# Last step\n",
    "\n",
    "Prepare your model to predict the set of new data to predict, you will have only 6 hours to push your predictions.\n",
    "\n",
    "(may be you would like to express, when guessing the percentage of wins for blacks, that it should reflect the fact that this score should be the same for all the symmetries you considered)..."
   ]
  },
  {
   "cell_type": "code",
   "execution_count": 450,
   "metadata": {},
   "outputs": [],
   "source": [
    "import torch.nn as nn\n",
    "import torch.nn.functional as F\n",
    "\n",
    "\n",
    "class Net(nn.Module):\n",
    "    def __init__(self):\n",
    "        super(Net, self).__init__()\n",
    "        \n",
    "        self.conv1 = nn.Conv2d(2, 32, 3, padding=1)\n",
    "        self.conv2 = nn.Conv2d(32, 32, 3, padding=1)\n",
    "        self.conv3 = nn.Conv2d(32, 32, 3, padding=1)\n",
    "        \n",
    "        self.fc1 = nn.Linear(32 * 9 * 9, 128)\n",
    "        self.fc2 = nn.Linear(128, 128)\n",
    "        self.fc3 = nn.Linear(128, 1)\n",
    "\n",
    "\n",
    "    def forward(self, x):\n",
    "        \n",
    "        x = F.leaky_relu(self.conv1(x), negative_slope=0.1)\n",
    "        x = F.leaky_relu(self.conv2(x), negative_slope=0.1)\n",
    "        x = F.leaky_relu(self.conv3(x), negative_slope=0.1)\n",
    "        \n",
    "        x = x.view(-1, 32 * 9 * 9)        \n",
    "        x = F.leaky_relu(self.fc1(x), negative_slope=0.1)\n",
    "        x = F.leaky_relu(self.fc2(x), negative_slope=0.1)\n",
    "        x = F.sigmoid(self.fc3(x)).reshape(-1)\n",
    "\n",
    "        return x\n",
    "\n",
    "net = Net()"
   ]
  },
  {
   "cell_type": "code",
   "execution_count": 452,
   "metadata": {},
   "outputs": [],
   "source": [
    "import torch.optim as optim\n",
    "\n",
    "criterion = nn.L1Loss()\n",
    "optimizer = optim.Adam(net.parameters())"
   ]
  },
  {
   "cell_type": "code",
   "execution_count": 454,
   "metadata": {},
   "outputs": [
    {
     "name": "stdout",
     "output_type": "stream",
     "text": [
      "[1,  2000] loss: 0.106\n",
      "[1,  4000] loss: 0.100\n",
      "[2,  2000] loss: 0.098\n",
      "[2,  4000] loss: 0.096\n",
      "Finished Training\n"
     ]
    }
   ],
   "source": [
    "for epoch in range(2):  # loop over the dataset multiple times\n",
    "\n",
    "    running_loss = 0.0\n",
    "    for i, data in enumerate(train_loader, 0):\n",
    "        # get the inputs; data is a list of [inputs, labels]\n",
    "        inputs, labels = data\n",
    "\n",
    "        # zero the parameter gradients\n",
    "        optimizer.zero_grad()\n",
    "\n",
    "        # forward + backward + optimize\n",
    "        \n",
    "        outputs = net(inputs)\n",
    "        loss = criterion(outputs, labels)\n",
    "        loss.backward()\n",
    "        optimizer.step()\n",
    "        \n",
    "\n",
    "        # print statistics\n",
    "        running_loss += loss.item()\n",
    "        if i % 2000 == 1999:    # print every 2000 mini-batches\n",
    "            print('[%d, %5d] loss: %.3f' %\n",
    "                  (epoch + 1, i + 1, running_loss / 2000))\n",
    "            running_loss = 0.0\n",
    "\n",
    "print('Finished Training')"
   ]
  },
  {
   "cell_type": "code",
   "execution_count": 456,
   "metadata": {},
   "outputs": [
    {
     "data": {
      "text/plain": [
       "array([[[0., 0., 0., 0., 0., 0., 0., 0., 0.],\n",
       "        [0., 1., 0., 0., 0., 0., 0., 0., 0.],\n",
       "        [0., 0., 0., 0., 0., 0., 0., 0., 0.],\n",
       "        [0., 1., 0., 0., 0., 1., 0., 0., 0.],\n",
       "        [0., 0., 0., 0., 0., 1., 1., 1., 0.],\n",
       "        [0., 1., 0., 1., 0., 0., 0., 0., 0.],\n",
       "        [0., 0., 1., 0., 0., 0., 1., 0., 0.],\n",
       "        [0., 0., 0., 0., 1., 0., 0., 0., 0.],\n",
       "        [0., 0., 0., 0., 0., 0., 0., 0., 0.]],\n",
       "\n",
       "       [[0., 0., 0., 0., 0., 0., 0., 0., 0.],\n",
       "        [0., 0., 0., 0., 0., 0., 1., 1., 0.],\n",
       "        [0., 0., 0., 0., 1., 1., 0., 1., 0.],\n",
       "        [0., 0., 0., 1., 0., 0., 1., 1., 0.],\n",
       "        [0., 0., 1., 0., 0., 0., 0., 0., 1.],\n",
       "        [0., 0., 0., 0., 0., 0., 0., 0., 0.],\n",
       "        [0., 0., 0., 0., 0., 0., 0., 0., 1.],\n",
       "        [0., 0., 0., 0., 0., 0., 0., 0., 0.],\n",
       "        [0., 0., 0., 0., 0., 0., 0., 0., 0.]]])"
      ]
     },
     "execution_count": 456,
     "metadata": {},
     "output_type": "execute_result"
    }
   ],
   "source": [
    "X_test[0]"
   ]
  },
  {
   "cell_type": "code",
   "execution_count": 481,
   "metadata": {},
   "outputs": [
    {
     "data": {
      "text/plain": [
       "0.89"
      ]
     },
     "execution_count": 481,
     "metadata": {},
     "output_type": "execute_result"
    }
   ],
   "source": [
    "y_test[14]"
   ]
  },
  {
   "cell_type": "code",
   "execution_count": 484,
   "metadata": {},
   "outputs": [
    {
     "data": {
      "text/plain": [
       "tensor([0.7758], grad_fn=<ViewBackward>)"
      ]
     },
     "execution_count": 484,
     "metadata": {},
     "output_type": "execute_result"
    }
   ],
   "source": [
    "net(torch.Tensor(X_test[14:15]))"
   ]
  }
 ],
 "metadata": {
  "kernelspec": {
   "display_name": "Python 3",
   "language": "python",
   "name": "python3"
  },
  "language_info": {
   "codemirror_mode": {
    "name": "ipython",
    "version": 3
   },
   "file_extension": ".py",
   "mimetype": "text/x-python",
   "name": "python",
   "nbconvert_exporter": "python",
   "pygments_lexer": "ipython3",
   "version": "3.8.3"
  }
 },
 "nbformat": 4,
 "nbformat_minor": 2
}
